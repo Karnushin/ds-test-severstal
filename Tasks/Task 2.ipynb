{
 "cells": [
  {
   "cell_type": "markdown",
   "metadata": {},
   "source": [
    "**Task 2**"
   ]
  },
  {
   "cell_type": "code",
   "execution_count": 27,
   "metadata": {
    "ExecuteTime": {
     "end_time": "2020-07-03T21:07:35.426264Z",
     "start_time": "2020-07-03T21:07:35.422899Z"
    }
   },
   "outputs": [],
   "source": [
    "import numpy as np\n",
    "import pandas as pd\n",
    "from scipy import stats\n",
    "import matplotlib.pyplot as plt\n",
    "import seaborn as sns\n",
    "import getpass\n",
    "from tqdm.notebook import  tqdm\n",
    "import csv\n",
    "\n",
    "from datetime import datetime, timedelta\n",
    "\n",
    "from sklearn.metrics import mean_absolute_error\n",
    "\n",
    "from lightgbm import LGBMRegressor\n",
    "\n",
    "import optuna\n",
    "import ast\n",
    "\n",
    "from pathlib import Path"
   ]
  },
  {
   "cell_type": "code",
   "execution_count": 2,
   "metadata": {
    "ExecuteTime": {
     "end_time": "2020-07-03T20:47:05.925937Z",
     "start_time": "2020-07-03T20:47:05.918947Z"
    }
   },
   "outputs": [],
   "source": [
    "def samples_split_by_order(X, y=None, date_col='time', date=None, split_by_date=False, sec_size=0.2):\n",
    "    '''Divide samples by order\n",
    "    \n",
    "    Parameters:\n",
    "        X - dataframe\n",
    "        y - series or dataframe\n",
    "        X, y must be already ordered by some order\n",
    "        If y isn't given thеn only X is divided\n",
    "        \n",
    "        date_col - name of column that indicate monthly date, default='month_camp'\n",
    "        \n",
    "        date - 1-st sample created strictly till (before!) this date, 2-d after including the 'date' if 'date' is not None\n",
    "        \n",
    "        split_by_date - bool, split samples by date if True (date must be given)\n",
    "        \n",
    "        sec_size - fraction of second size of sample\n",
    "        \n",
    "        If split_by_date is True then division makes by date and column \"month_camp must be\" else by frac\n",
    "        \n",
    "    Return:\n",
    "        samples divided by order in format X_first, X_second (optionally y_first, y_second)\n",
    "    '''\n",
    "    \n",
    "    if date is not None and not split_by_date:\n",
    "        raise ValueError('Get date but parameter split_by_date is False. It should be True')\n",
    "    elif date is None and split_by_date:\n",
    "        raise ValueError('Get splitby_date=True but date is not found')\n",
    "    \n",
    "    cnt_rows_1 = np.where(X[date_col]>=date)[0][0] if split_by_date else int(X.shape[0] * (1 - sec_size))\n",
    "    \n",
    "    X_fir, X_sec = X.iloc[:cnt_rows_1, :], X.iloc[cnt_rows_1:, :]\n",
    "    \n",
    "    return (X_fir, X_sec, y[:cnt_rows_1], y[cnt_rows_1:]) if y is not None else (X_fir, X_sec)\n",
    "\n",
    "#seems that this helps to decrease overfitting without losing much quality\n",
    "def compute_diff_div_sensors(sample):\n",
    "    \"\"\"Compute division and difference for i'th (1 to 3) sensor in different cells (1 to 5)\"\"\"\n",
    "    \n",
    "    for i in range(1, 5):\n",
    "        for j in range(1, 4):\n",
    "            sample[f'T_data_{j}_div_{i+1}{i}'] = sample[f'T_data_{i+1}_{j}'] / sample[f'T_data_{i}_{j}'] \n",
    "            \n",
    "            sample[f'T_data_{j}_diff_{i+1}{i}'] = sample[f'T_data_{i+1}_{j}'] - sample[f'T_data_{i}_{j}'] \n",
    "            \n",
    "    return sample"
   ]
  },
  {
   "cell_type": "code",
   "execution_count": 6,
   "metadata": {
    "ExecuteTime": {
     "end_time": "2020-07-03T20:47:33.789988Z",
     "start_time": "2020-07-03T20:47:33.786814Z"
    }
   },
   "outputs": [],
   "source": [
    "pd.set_option('display.max_columns', 100)\n",
    "sns.set(style='darkgrid')\n",
    "\n",
    "SEED = 42\n",
    "NJOBS = 60\n",
    "NEG_CONST = -1000\n",
    "\n",
    "DATA_DIR = Path('') #path to data files\n",
    "OPTIMIZE_FILE = DATA_DIR / 'optuna_scores.csv'"
   ]
  },
  {
   "cell_type": "code",
   "execution_count": 7,
   "metadata": {
    "ExecuteTime": {
     "end_time": "2020-07-03T20:47:37.266470Z",
     "start_time": "2020-07-03T20:47:34.368463Z"
    }
   },
   "outputs": [],
   "source": [
    "data = pd.read_csv(DATA_DIR / 'X_data.csv', sep=';')\n",
    "data.columns = ['time'] + list(data.columns[1:])\n",
    "data['time'] = pd.to_datetime(data['time'], format='%Y-%m-%d %H:%M:%S')\n",
    "\n",
    "ytrain = pd.read_csv(DATA_DIR / 'Y_train.csv', sep=';', header=None)\n",
    "ytrain.columns = ['time', 'value']\n",
    "ytrain['time'] = pd.to_datetime(ytrain['time'], format='%Y-%m-%d %H:%M:%S')\n",
    "\n",
    "ytest = pd.read_csv(DATA_DIR / 'Y_submit.csv', sep=';', header=None)\n",
    "ytest.columns = ['time', 'value']\n",
    "ytest['time'] = pd.to_datetime(ytest['time'], format='%Y-%m-%d %H:%M:%S')\n",
    "\n",
    "#change 420 to -1 because true data (train part) can contain 420 and then we won't be able to split common df\n",
    "ytest['value'] = -1"
   ]
  },
  {
   "cell_type": "code",
   "execution_count": 8,
   "metadata": {
    "ExecuteTime": {
     "end_time": "2020-07-03T20:47:38.231858Z",
     "start_time": "2020-07-03T20:47:37.269140Z"
    }
   },
   "outputs": [
    {
     "name": "stdout",
     "output_type": "stream",
     "text": [
      "(2103841, 19)\n"
     ]
    }
   ],
   "source": [
    "df = data.merge(pd.concat([ytrain, ytest]), on=['time'], how='left')\n",
    "df['value'] = df['value'].fillna(NEG_CONST)\n",
    "print(df.shape)"
   ]
  },
  {
   "cell_type": "markdown",
   "metadata": {},
   "source": [
    "## Data preprocessing"
   ]
  },
  {
   "cell_type": "markdown",
   "metadata": {},
   "source": [
    "**Add some features**"
   ]
  },
  {
   "cell_type": "code",
   "execution_count": 9,
   "metadata": {
    "ExecuteTime": {
     "end_time": "2020-07-03T20:47:38.682271Z",
     "start_time": "2020-07-03T20:47:38.233518Z"
    }
   },
   "outputs": [],
   "source": [
    "df = compute_diff_div_sensors(df)"
   ]
  },
  {
   "cell_type": "markdown",
   "metadata": {},
   "source": [
    "**Add lag features**"
   ]
  },
  {
   "cell_type": "markdown",
   "metadata": {},
   "source": [
    "Since we got values in the end (after one hour), I suppose that current hour is for the certain steel or smth like that"
   ]
  },
  {
   "cell_type": "code",
   "execution_count": 10,
   "metadata": {
    "ExecuteTime": {
     "end_time": "2020-07-03T20:47:38.686283Z",
     "start_time": "2020-07-03T20:47:38.683894Z"
    }
   },
   "outputs": [],
   "source": [
    "index_cols = ['time']\n",
    "lag_features = ['T_data_1_1', 'T_data_1_2', 'T_data_1_3', 'T_data_2_1', 'T_data_2_2', 'T_data_2_3',\n",
    "                 'T_data_3_1', 'T_data_3_2', 'T_data_3_3', 'T_data_4_1', 'T_data_4_2', 'T_data_4_3',\n",
    "                 'T_data_5_1', 'T_data_5_2', 'T_data_5_3']"
   ]
  },
  {
   "cell_type": "code",
   "execution_count": 11,
   "metadata": {
    "ExecuteTime": {
     "end_time": "2020-07-03T20:49:09.066411Z",
     "start_time": "2020-07-03T20:47:38.687579Z"
    }
   },
   "outputs": [
    {
     "data": {
      "application/vnd.jupyter.widget-view+json": {
       "model_id": "7b9835d969d947c79658e0aaaacc6b23",
       "version_major": 2,
       "version_minor": 0
      },
      "text/plain": [
       "HBox(children=(FloatProgress(value=0.0, max=5.0), HTML(value='')))"
      ]
     },
     "metadata": {},
     "output_type": "display_data"
    },
    {
     "name": "stdout",
     "output_type": "stream",
     "text": [
      "\n"
     ]
    }
   ],
   "source": [
    "#in minutes\n",
    "lag_steps = list(range(10, 60, 10))\n",
    "\n",
    "for step in tqdm(lag_steps):\n",
    "    df_shift = df[index_cols + lag_features].copy()\n",
    "    \n",
    "    df['time'] += timedelta(minutes=step)\n",
    "    #rename columns based on lag step\n",
    "    df_shift = df_shift.rename(columns=lambda x: f'{x}_lag_{step}' if x in lag_features else x)\n",
    "    \n",
    "    df = pd.merge(df, df_shift, on=index_cols, how='left')"
   ]
  },
  {
   "cell_type": "code",
   "execution_count": 12,
   "metadata": {
    "ExecuteTime": {
     "end_time": "2020-07-03T20:49:12.703210Z",
     "start_time": "2020-07-03T20:49:09.068177Z"
    }
   },
   "outputs": [
    {
     "name": "stdout",
     "output_type": "stream",
     "text": [
      "(34992, 118)\n"
     ]
    }
   ],
   "source": [
    "#drop rows without target\n",
    "df = df[df['value']!=NEG_CONST]\n",
    "#just in case\n",
    "df = df.sort_values(by=['time'])\n",
    "print(df.shape)"
   ]
  },
  {
   "cell_type": "markdown",
   "metadata": {},
   "source": [
    "**Some plots**"
   ]
  },
  {
   "cell_type": "code",
   "execution_count": 9,
   "metadata": {
    "ExecuteTime": {
     "end_time": "2020-07-03T15:55:43.676102Z",
     "start_time": "2020-07-03T15:55:43.273378Z"
    }
   },
   "outputs": [
    {
     "data": {
      "image/png": "[encoded data removed]",
      "text/plain": [
       "<Figure size 1440x504 with 1 Axes>"
      ]
     },
     "metadata": {},
     "output_type": "display_data"
    }
   ],
   "source": [
    "plt.figure(figsize=(20, 7))\n",
    "sns.distplot(df.loc[df['value']!=-1, 'value'])\n",
    "plt.show()"
   ]
  },
  {
   "cell_type": "code",
   "execution_count": 10,
   "metadata": {
    "ExecuteTime": {
     "end_time": "2020-07-03T15:55:43.963915Z",
     "start_time": "2020-07-03T15:55:43.677435Z"
    }
   },
   "outputs": [
    {
     "data": {
      "image/png": "[encoded data removed]",
      "text/plain": [
       "<Figure size 1440x504 with 1 Axes>"
      ]
     },
     "metadata": {},
     "output_type": "display_data"
    }
   ],
   "source": [
    "plt.figure(figsize=(20, 7))\n",
    "sns.boxplot(df.loc[df['value']!=-1, 'value'])\n",
    "plt.show()"
   ]
  },
  {
   "cell_type": "code",
   "execution_count": 11,
   "metadata": {
    "ExecuteTime": {
     "end_time": "2020-07-03T15:55:43.973263Z",
     "start_time": "2020-07-03T15:55:43.965295Z"
    }
   },
   "outputs": [
    {
     "data": {
      "text/plain": [
       "0"
      ]
     },
     "execution_count": 11,
     "metadata": {},
     "output_type": "execute_result"
    }
   ],
   "source": [
    "df.isna().sum().sum()"
   ]
  },
  {
   "cell_type": "markdown",
   "metadata": {},
   "source": [
    "Seems no extreme values and also there're no missing values"
   ]
  },
  {
   "cell_type": "markdown",
   "metadata": {},
   "source": [
    "**Split data**"
   ]
  },
  {
   "cell_type": "code",
   "execution_count": 13,
   "metadata": {
    "ExecuteTime": {
     "end_time": "2020-07-03T20:49:12.739391Z",
     "start_time": "2020-07-03T20:49:12.704639Z"
    }
   },
   "outputs": [
    {
     "name": "stdout",
     "output_type": "stream",
     "text": [
      "(23347, 117) (5837, 117) (5808, 117)\n"
     ]
    }
   ],
   "source": [
    "Xtrain, Xval, ytrain, yval = samples_split_by_order(df.loc[df['value']!=-1].drop('value', axis=1)\n",
    "                                                    , df.loc[df['value']!=-1,'value']\n",
    "                                                    , date_col='time', sec_size=0.2)\n",
    "\n",
    "Xtest = df.loc[df['value']==-1].drop('value', axis=1)\n",
    "\n",
    "print(Xtrain.shape, Xval.shape, Xtest.shape)"
   ]
  },
  {
   "cell_type": "code",
   "execution_count": 14,
   "metadata": {
    "ExecuteTime": {
     "end_time": "2020-07-03T20:49:12.766708Z",
     "start_time": "2020-07-03T20:49:12.741360Z"
    }
   },
   "outputs": [],
   "source": [
    "Xtrain = Xtrain.drop(['time'], axis=1)\n",
    "Xval = Xval.drop(['time'], axis=1)\n",
    "Xtest = Xtest.drop('time', axis=1)\n",
    "\n",
    "Xtrain = Xtrain.reindex(sorted(Xtrain.columns), axis=1)\n",
    "Xval = Xval.reindex(sorted(Xval.columns), axis=1)\n",
    "Xtest = Xtest.reindex(sorted(Xtest.columns), axis=1)"
   ]
  },
  {
   "cell_type": "markdown",
   "metadata": {},
   "source": [
    "## Simple baseline\n",
    "\n",
    "Since target metrics is MAE, I'll check median"
   ]
  },
  {
   "cell_type": "code",
   "execution_count": 123,
   "metadata": {
    "ExecuteTime": {
     "end_time": "2020-07-03T21:57:32.907565Z",
     "start_time": "2020-07-03T21:57:32.896167Z"
    }
   },
   "outputs": [
    {
     "name": "stdout",
     "output_type": "stream",
     "text": [
      "37.40493425279479\n",
      "38.21175261264348\n"
     ]
    }
   ],
   "source": [
    "m = np.median(ytrain)\n",
    "print(mean_absolute_error(ytrain, [m]*Xtrain.shape[0]))\n",
    "print(mean_absolute_error(yval, [m]*Xval.shape[0]))"
   ]
  },
  {
   "cell_type": "markdown",
   "metadata": {},
   "source": [
    "## Optuna\n",
    "\n",
    "lgbm"
   ]
  },
  {
   "cell_type": "code",
   "execution_count": 15,
   "metadata": {
    "ExecuteTime": {
     "end_time": "2020-07-03T20:49:12.770507Z",
     "start_time": "2020-07-03T20:49:12.768405Z"
    }
   },
   "outputs": [],
   "source": [
    "N_EST = 5000\n",
    "INT_PARAMS = ['n_estimators', 'max_depth', 'subsample_for_bin', 'min_data_in_leaf', 'subsample_freq'\n",
    "              , 'random_state', 'n_jobs', 'num_leaves']"
   ]
  },
  {
   "cell_type": "code",
   "execution_count": 19,
   "metadata": {
    "ExecuteTime": {
     "end_time": "2020-07-03T20:50:15.355083Z",
     "start_time": "2020-07-03T20:50:15.347367Z"
    }
   },
   "outputs": [],
   "source": [
    "def objective(trial):\n",
    "\n",
    "    params = {'n_estimators': N_EST\n",
    "             , 'learning_rate': trial.suggest_loguniform('learning_rate', 1e-3, 0.1)\n",
    "             , 'num_leaves': trial.suggest_int('num_leaves', 7, 255)\n",
    "             , 'max_depth': -1\n",
    "             , 'subsample': trial.suggest_uniform('subsample', 0.75, 1)\n",
    "             , 'colsample_bytree': trial.suggest_uniform('colsample_bytree', 0.7, 1)\n",
    "             , 'min_child_weight': trial.suggest_uniform('min_child_weight', 1e-1, 200)\n",
    "             , 'reg_alpha': trial.suggest_loguniform('reg_alpha', 1e-3, 3.0)\n",
    "             , 'reg_lambda': trial.suggest_loguniform('reg_lambda', 1e-3, 3.0)\n",
    "             , 'min_split_gain': trial.suggest_loguniform('min_split_gain', 1e-2, 100) #aka gamma in xgboost\n",
    "             , 'max_delta_step': trial.suggest_uniform('max_delta_step', 0, 100)\n",
    "             , 'subsample_for_bin': trial.suggest_int('subsample_for_bin', 50*1000, 300*1000)\n",
    "             , 'subsample_freq': trial.suggest_int('subsample_freq', 1, 10)\n",
    "             , 'min_data_in_leaf': trial.suggest_int('min_data_in_leaf', 20, int(0.05 * Xtrain.shape[0]))\n",
    "              \n",
    "             , 'random_state': SEED\n",
    "             , 'n_jobs' : NJOBS\n",
    "            }\n",
    "    \n",
    "    start_time = datetime.now()\n",
    "\n",
    "    model = LGBMRegressor(**params)\n",
    "    model.fit(Xtrain, ytrain, eval_metric=['mae'], verbose=False\n",
    "            , eval_set=[(Xval, yval)], early_stopping_rounds=100)\n",
    "    \n",
    "    train_time = datetime.now() - start_time\n",
    "\n",
    "    pred_val = model.predict(Xval)\n",
    "    pred_train = model.predict(Xtrain)\n",
    "    \n",
    "    mae_test = mean_absolute_error(yval, pred_val)\n",
    "    mae_train = mean_absolute_error(ytrain, pred_train)\n",
    "    \n",
    "    with open(OPTIMIZE_FILE, 'a') as f:\n",
    "        writer = csv.writer(f)\n",
    "        writer.writerow([params, mae_test, mae_train, train_time])\n",
    "    \n",
    "    return mae_test"
   ]
  },
  {
   "cell_type": "code",
   "execution_count": 22,
   "metadata": {
    "ExecuteTime": {
     "end_time": "2020-07-03T20:56:51.559979Z",
     "start_time": "2020-07-03T20:56:51.556454Z"
    }
   },
   "outputs": [],
   "source": [
    "with open(OPTIMIZE_FILE, 'w') as f:\n",
    "    writer = csv.writer(f)\n",
    "    writer.writerow(['params', 'mae_test', 'mae_train', 'train_time'])"
   ]
  },
  {
   "cell_type": "code",
   "execution_count": null,
   "metadata": {
    "ExecuteTime": {
     "end_time": "2020-07-03T21:07:18.499269Z",
     "start_time": "2020-07-03T20:56:52.415855Z"
    }
   },
   "outputs": [],
   "source": [
    "study = optuna.create_study(direction='minimize', pruner=optuna.pruners.SuccessiveHalvingPruner())\n",
    "study.optimize(objective, n_trials=25, show_progress_bar=True, n_jobs=1)"
   ]
  },
  {
   "cell_type": "code",
   "execution_count": 24,
   "metadata": {
    "ExecuteTime": {
     "end_time": "2020-07-03T21:07:18.504465Z",
     "start_time": "2020-07-03T21:07:18.500784Z"
    }
   },
   "outputs": [
    {
     "name": "stdout",
     "output_type": "stream",
     "text": [
      "Best parameters:\n",
      "\n",
      "{'learning_rate': 0.0038839813894882037, 'num_leaves': 108, 'subsample': 0.9188815849750354, 'colsample_bytree': 0.9071487529897371, 'min_child_weight': 147.5913889169944, 'reg_alpha': 1.3816062094693806, 'reg_lambda': 0.308926608897074, 'min_split_gain': 30.908513807597696, 'max_delta_step': 82.31736075874589, 'subsample_for_bin': 182395, 'subsample_freq': 8, 'min_data_in_leaf': 140}\n"
     ]
    }
   ],
   "source": [
    "print('Best parameters:\\n')\n",
    "print(study.best_params)"
   ]
  },
  {
   "cell_type": "code",
   "execution_count": 25,
   "metadata": {
    "ExecuteTime": {
     "end_time": "2020-07-03T21:07:18.508641Z",
     "start_time": "2020-07-03T21:07:18.505889Z"
    }
   },
   "outputs": [
    {
     "name": "stdout",
     "output_type": "stream",
     "text": [
      "9.831925616798737\n"
     ]
    }
   ],
   "source": [
    "print(study.best_value)"
   ]
  },
  {
   "cell_type": "code",
   "execution_count": 40,
   "metadata": {
    "ExecuteTime": {
     "end_time": "2020-07-03T21:09:22.944842Z",
     "start_time": "2020-07-03T21:09:22.930631Z"
    }
   },
   "outputs": [],
   "source": [
    "info_opt = pd.read_csv(DATA_DIR / OPTIMIZE_FILE)\n",
    "\n",
    "info_opt_all = pd.DataFrame([ast.literal_eval(info_opt.loc[i, 'params']) for i in range(info_opt.shape[0])])\n",
    "info_opt_all.insert(0, 'mae_test', info_opt['mae_test'])\n",
    "info_opt_all.insert(1, 'mae_train', info_opt['mae_train'])\n",
    "info_opt_all.insert(2, 'diff_mae', info_opt['mae_train'] - info_opt['mae_test'])\n",
    "\n",
    "const_cols = ['n_estimators', 'random_state', 'n_jobs']\n",
    "\n",
    "info_opt_all = info_opt_all.drop(const_cols, axis=1)\n",
    "k=info_opt_all.sort_values(by=['mae_test'])\n",
    "#k=info_opt_all[(info_opt_all['mae_test'] < 10)]"
   ]
  },
  {
   "cell_type": "code",
   "execution_count": 41,
   "metadata": {
    "ExecuteTime": {
     "end_time": "2020-07-03T21:09:23.377255Z",
     "start_time": "2020-07-03T21:09:23.358805Z"
    }
   },
   "outputs": [
    {
     "data": {
      "text/html": [
       "<div>\n",
       "<style scoped>\n",
       "    .dataframe tbody tr th:only-of-type {\n",
       "        vertical-align: middle;\n",
       "    }\n",
       "\n",
       "    .dataframe tbody tr th {\n",
       "        vertical-align: top;\n",
       "    }\n",
       "\n",
       "    .dataframe thead th {\n",
       "        text-align: right;\n",
       "    }\n",
       "</style>\n",
       "<table border=\"1\" class=\"dataframe\">\n",
       "  <thead>\n",
       "    <tr style=\"text-align: right;\">\n",
       "      <th></th>\n",
       "      <th>mae_test</th>\n",
       "      <th>mae_train</th>\n",
       "      <th>diff_mae</th>\n",
       "      <th>learning_rate</th>\n",
       "      <th>num_leaves</th>\n",
       "      <th>max_depth</th>\n",
       "      <th>subsample</th>\n",
       "      <th>colsample_bytree</th>\n",
       "      <th>min_child_weight</th>\n",
       "      <th>reg_alpha</th>\n",
       "      <th>reg_lambda</th>\n",
       "      <th>min_split_gain</th>\n",
       "      <th>max_delta_step</th>\n",
       "      <th>subsample_for_bin</th>\n",
       "      <th>subsample_freq</th>\n",
       "      <th>min_data_in_leaf</th>\n",
       "    </tr>\n",
       "  </thead>\n",
       "  <tbody>\n",
       "    <tr>\n",
       "      <th>18</th>\n",
       "      <td>9.831926</td>\n",
       "      <td>5.214602</td>\n",
       "      <td>-4.617323</td>\n",
       "      <td>0.003884</td>\n",
       "      <td>108</td>\n",
       "      <td>-1</td>\n",
       "      <td>0.918882</td>\n",
       "      <td>0.907149</td>\n",
       "      <td>147.591389</td>\n",
       "      <td>1.381606</td>\n",
       "      <td>0.308927</td>\n",
       "      <td>30.908514</td>\n",
       "      <td>82.317361</td>\n",
       "      <td>182395</td>\n",
       "      <td>8</td>\n",
       "      <td>140</td>\n",
       "    </tr>\n",
       "    <tr>\n",
       "      <th>17</th>\n",
       "      <td>9.838406</td>\n",
       "      <td>6.138651</td>\n",
       "      <td>-3.699755</td>\n",
       "      <td>0.005504</td>\n",
       "      <td>161</td>\n",
       "      <td>-1</td>\n",
       "      <td>0.918279</td>\n",
       "      <td>0.895653</td>\n",
       "      <td>166.186076</td>\n",
       "      <td>2.927903</td>\n",
       "      <td>0.479083</td>\n",
       "      <td>18.870808</td>\n",
       "      <td>99.919776</td>\n",
       "      <td>213779</td>\n",
       "      <td>8</td>\n",
       "      <td>138</td>\n",
       "    </tr>\n",
       "    <tr>\n",
       "      <th>16</th>\n",
       "      <td>9.848345</td>\n",
       "      <td>5.795628</td>\n",
       "      <td>-4.052716</td>\n",
       "      <td>0.006222</td>\n",
       "      <td>159</td>\n",
       "      <td>-1</td>\n",
       "      <td>0.920780</td>\n",
       "      <td>0.896145</td>\n",
       "      <td>139.901495</td>\n",
       "      <td>1.112859</td>\n",
       "      <td>0.487956</td>\n",
       "      <td>14.983234</td>\n",
       "      <td>87.872754</td>\n",
       "      <td>212929</td>\n",
       "      <td>8</td>\n",
       "      <td>169</td>\n",
       "    </tr>\n",
       "    <tr>\n",
       "      <th>14</th>\n",
       "      <td>9.859654</td>\n",
       "      <td>6.212379</td>\n",
       "      <td>-3.647276</td>\n",
       "      <td>0.006844</td>\n",
       "      <td>192</td>\n",
       "      <td>-1</td>\n",
       "      <td>0.960690</td>\n",
       "      <td>0.874684</td>\n",
       "      <td>172.421842</td>\n",
       "      <td>2.500262</td>\n",
       "      <td>2.734844</td>\n",
       "      <td>12.842631</td>\n",
       "      <td>94.191938</td>\n",
       "      <td>214216</td>\n",
       "      <td>1</td>\n",
       "      <td>307</td>\n",
       "    </tr>\n",
       "    <tr>\n",
       "      <th>20</th>\n",
       "      <td>9.861237</td>\n",
       "      <td>5.648004</td>\n",
       "      <td>-4.213233</td>\n",
       "      <td>0.004047</td>\n",
       "      <td>103</td>\n",
       "      <td>-1</td>\n",
       "      <td>0.900127</td>\n",
       "      <td>0.932698</td>\n",
       "      <td>139.853328</td>\n",
       "      <td>0.030139</td>\n",
       "      <td>0.050305</td>\n",
       "      <td>4.562445</td>\n",
       "      <td>80.051413</td>\n",
       "      <td>161357</td>\n",
       "      <td>7</td>\n",
       "      <td>143</td>\n",
       "    </tr>\n",
       "    <tr>\n",
       "      <th>21</th>\n",
       "      <td>9.882605</td>\n",
       "      <td>6.239158</td>\n",
       "      <td>-3.643447</td>\n",
       "      <td>0.006653</td>\n",
       "      <td>159</td>\n",
       "      <td>-1</td>\n",
       "      <td>0.930758</td>\n",
       "      <td>0.900909</td>\n",
       "      <td>136.394677</td>\n",
       "      <td>1.150060</td>\n",
       "      <td>0.769943</td>\n",
       "      <td>25.612485</td>\n",
       "      <td>90.738746</td>\n",
       "      <td>193486</td>\n",
       "      <td>8</td>\n",
       "      <td>160</td>\n",
       "    </tr>\n",
       "    <tr>\n",
       "      <th>2</th>\n",
       "      <td>9.884348</td>\n",
       "      <td>6.051967</td>\n",
       "      <td>-3.832381</td>\n",
       "      <td>0.037768</td>\n",
       "      <td>183</td>\n",
       "      <td>-1</td>\n",
       "      <td>0.986769</td>\n",
       "      <td>0.845035</td>\n",
       "      <td>122.287691</td>\n",
       "      <td>0.657430</td>\n",
       "      <td>2.706773</td>\n",
       "      <td>0.319870</td>\n",
       "      <td>54.447349</td>\n",
       "      <td>255450</td>\n",
       "      <td>10</td>\n",
       "      <td>260</td>\n",
       "    </tr>\n",
       "    <tr>\n",
       "      <th>22</th>\n",
       "      <td>9.887754</td>\n",
       "      <td>6.368758</td>\n",
       "      <td>-3.518996</td>\n",
       "      <td>0.003886</td>\n",
       "      <td>155</td>\n",
       "      <td>-1</td>\n",
       "      <td>0.933775</td>\n",
       "      <td>0.894534</td>\n",
       "      <td>178.018778</td>\n",
       "      <td>0.997496</td>\n",
       "      <td>0.250500</td>\n",
       "      <td>95.896391</td>\n",
       "      <td>95.898210</td>\n",
       "      <td>223188</td>\n",
       "      <td>9</td>\n",
       "      <td>146</td>\n",
       "    </tr>\n",
       "    <tr>\n",
       "      <th>13</th>\n",
       "      <td>9.902562</td>\n",
       "      <td>6.118503</td>\n",
       "      <td>-3.784059</td>\n",
       "      <td>0.024352</td>\n",
       "      <td>194</td>\n",
       "      <td>-1</td>\n",
       "      <td>0.953515</td>\n",
       "      <td>0.875348</td>\n",
       "      <td>198.051465</td>\n",
       "      <td>2.748009</td>\n",
       "      <td>2.962020</td>\n",
       "      <td>13.652203</td>\n",
       "      <td>48.150429</td>\n",
       "      <td>244604</td>\n",
       "      <td>4</td>\n",
       "      <td>242</td>\n",
       "    </tr>\n",
       "    <tr>\n",
       "      <th>15</th>\n",
       "      <td>9.907191</td>\n",
       "      <td>7.025298</td>\n",
       "      <td>-2.881893</td>\n",
       "      <td>0.006598</td>\n",
       "      <td>189</td>\n",
       "      <td>-1</td>\n",
       "      <td>0.956093</td>\n",
       "      <td>0.784580</td>\n",
       "      <td>173.589757</td>\n",
       "      <td>0.001083</td>\n",
       "      <td>2.961355</td>\n",
       "      <td>10.233740</td>\n",
       "      <td>99.210029</td>\n",
       "      <td>198852</td>\n",
       "      <td>1</td>\n",
       "      <td>444</td>\n",
       "    </tr>\n",
       "    <tr>\n",
       "      <th>12</th>\n",
       "      <td>9.926116</td>\n",
       "      <td>5.552536</td>\n",
       "      <td>-4.373580</td>\n",
       "      <td>0.031938</td>\n",
       "      <td>248</td>\n",
       "      <td>-1</td>\n",
       "      <td>0.960650</td>\n",
       "      <td>0.865899</td>\n",
       "      <td>194.196755</td>\n",
       "      <td>0.240762</td>\n",
       "      <td>0.109215</td>\n",
       "      <td>0.237649</td>\n",
       "      <td>46.474314</td>\n",
       "      <td>294303</td>\n",
       "      <td>4</td>\n",
       "      <td>38</td>\n",
       "    </tr>\n",
       "    <tr>\n",
       "      <th>11</th>\n",
       "      <td>9.952367</td>\n",
       "      <td>5.020918</td>\n",
       "      <td>-4.931449</td>\n",
       "      <td>0.034374</td>\n",
       "      <td>241</td>\n",
       "      <td>-1</td>\n",
       "      <td>0.999750</td>\n",
       "      <td>0.837343</td>\n",
       "      <td>198.428893</td>\n",
       "      <td>0.289474</td>\n",
       "      <td>0.130416</td>\n",
       "      <td>0.191870</td>\n",
       "      <td>50.006265</td>\n",
       "      <td>295662</td>\n",
       "      <td>4</td>\n",
       "      <td>40</td>\n",
       "    </tr>\n",
       "    <tr>\n",
       "      <th>24</th>\n",
       "      <td>9.991178</td>\n",
       "      <td>7.444144</td>\n",
       "      <td>-2.547034</td>\n",
       "      <td>0.001159</td>\n",
       "      <td>212</td>\n",
       "      <td>-1</td>\n",
       "      <td>0.854345</td>\n",
       "      <td>0.959270</td>\n",
       "      <td>119.022433</td>\n",
       "      <td>1.460636</td>\n",
       "      <td>0.407361</td>\n",
       "      <td>26.502808</td>\n",
       "      <td>99.836644</td>\n",
       "      <td>232206</td>\n",
       "      <td>7</td>\n",
       "      <td>130</td>\n",
       "    </tr>\n",
       "    <tr>\n",
       "      <th>10</th>\n",
       "      <td>9.996995</td>\n",
       "      <td>2.497250</td>\n",
       "      <td>-7.499745</td>\n",
       "      <td>0.035342</td>\n",
       "      <td>239</td>\n",
       "      <td>-1</td>\n",
       "      <td>0.993769</td>\n",
       "      <td>0.825232</td>\n",
       "      <td>6.707665</td>\n",
       "      <td>0.341611</td>\n",
       "      <td>0.124402</td>\n",
       "      <td>0.262859</td>\n",
       "      <td>48.198889</td>\n",
       "      <td>294405</td>\n",
       "      <td>4</td>\n",
       "      <td>41</td>\n",
       "    </tr>\n",
       "    <tr>\n",
       "      <th>23</th>\n",
       "      <td>10.007571</td>\n",
       "      <td>7.674728</td>\n",
       "      <td>-2.332844</td>\n",
       "      <td>0.004621</td>\n",
       "      <td>106</td>\n",
       "      <td>-1</td>\n",
       "      <td>0.895925</td>\n",
       "      <td>0.892057</td>\n",
       "      <td>153.808618</td>\n",
       "      <td>2.938052</td>\n",
       "      <td>0.927061</td>\n",
       "      <td>6.672705</td>\n",
       "      <td>84.637330</td>\n",
       "      <td>137190</td>\n",
       "      <td>9</td>\n",
       "      <td>430</td>\n",
       "    </tr>\n",
       "    <tr>\n",
       "      <th>6</th>\n",
       "      <td>10.113386</td>\n",
       "      <td>7.294285</td>\n",
       "      <td>-2.819101</td>\n",
       "      <td>0.037563</td>\n",
       "      <td>78</td>\n",
       "      <td>-1</td>\n",
       "      <td>0.878267</td>\n",
       "      <td>0.753078</td>\n",
       "      <td>88.720329</td>\n",
       "      <td>2.178319</td>\n",
       "      <td>0.006124</td>\n",
       "      <td>0.042780</td>\n",
       "      <td>34.973804</td>\n",
       "      <td>246882</td>\n",
       "      <td>6</td>\n",
       "      <td>790</td>\n",
       "    </tr>\n",
       "    <tr>\n",
       "      <th>19</th>\n",
       "      <td>10.116021</td>\n",
       "      <td>8.236447</td>\n",
       "      <td>-1.879575</td>\n",
       "      <td>0.002830</td>\n",
       "      <td>105</td>\n",
       "      <td>-1</td>\n",
       "      <td>0.878777</td>\n",
       "      <td>0.959725</td>\n",
       "      <td>160.455339</td>\n",
       "      <td>0.120368</td>\n",
       "      <td>0.284225</td>\n",
       "      <td>37.615322</td>\n",
       "      <td>79.969241</td>\n",
       "      <td>178784</td>\n",
       "      <td>8</td>\n",
       "      <td>440</td>\n",
       "    </tr>\n",
       "    <tr>\n",
       "      <th>3</th>\n",
       "      <td>10.281839</td>\n",
       "      <td>7.710134</td>\n",
       "      <td>-2.571706</td>\n",
       "      <td>0.091643</td>\n",
       "      <td>188</td>\n",
       "      <td>-1</td>\n",
       "      <td>0.828880</td>\n",
       "      <td>0.990924</td>\n",
       "      <td>101.267555</td>\n",
       "      <td>1.058692</td>\n",
       "      <td>1.291244</td>\n",
       "      <td>0.939812</td>\n",
       "      <td>67.278456</td>\n",
       "      <td>68218</td>\n",
       "      <td>10</td>\n",
       "      <td>739</td>\n",
       "    </tr>\n",
       "    <tr>\n",
       "      <th>9</th>\n",
       "      <td>10.321617</td>\n",
       "      <td>8.463764</td>\n",
       "      <td>-1.857853</td>\n",
       "      <td>0.011953</td>\n",
       "      <td>142</td>\n",
       "      <td>-1</td>\n",
       "      <td>0.756776</td>\n",
       "      <td>0.739149</td>\n",
       "      <td>53.865546</td>\n",
       "      <td>0.080498</td>\n",
       "      <td>0.006113</td>\n",
       "      <td>1.978066</td>\n",
       "      <td>14.359190</td>\n",
       "      <td>70615</td>\n",
       "      <td>6</td>\n",
       "      <td>760</td>\n",
       "    </tr>\n",
       "    <tr>\n",
       "      <th>8</th>\n",
       "      <td>10.338473</td>\n",
       "      <td>8.701190</td>\n",
       "      <td>-1.637284</td>\n",
       "      <td>0.001185</td>\n",
       "      <td>135</td>\n",
       "      <td>-1</td>\n",
       "      <td>0.990251</td>\n",
       "      <td>0.915048</td>\n",
       "      <td>77.925232</td>\n",
       "      <td>0.006247</td>\n",
       "      <td>0.588390</td>\n",
       "      <td>60.580525</td>\n",
       "      <td>63.192099</td>\n",
       "      <td>135208</td>\n",
       "      <td>2</td>\n",
       "      <td>314</td>\n",
       "    </tr>\n",
       "    <tr>\n",
       "      <th>0</th>\n",
       "      <td>10.341650</td>\n",
       "      <td>8.156112</td>\n",
       "      <td>-2.185538</td>\n",
       "      <td>0.013881</td>\n",
       "      <td>62</td>\n",
       "      <td>-1</td>\n",
       "      <td>0.912383</td>\n",
       "      <td>0.948151</td>\n",
       "      <td>141.023919</td>\n",
       "      <td>0.009688</td>\n",
       "      <td>1.581918</td>\n",
       "      <td>0.025496</td>\n",
       "      <td>3.579836</td>\n",
       "      <td>136733</td>\n",
       "      <td>8</td>\n",
       "      <td>985</td>\n",
       "    </tr>\n",
       "    <tr>\n",
       "      <th>5</th>\n",
       "      <td>10.349199</td>\n",
       "      <td>7.771607</td>\n",
       "      <td>-2.577592</td>\n",
       "      <td>0.070728</td>\n",
       "      <td>30</td>\n",
       "      <td>-1</td>\n",
       "      <td>0.866585</td>\n",
       "      <td>0.726627</td>\n",
       "      <td>79.930664</td>\n",
       "      <td>0.487513</td>\n",
       "      <td>0.025614</td>\n",
       "      <td>70.343779</td>\n",
       "      <td>25.871714</td>\n",
       "      <td>162431</td>\n",
       "      <td>6</td>\n",
       "      <td>953</td>\n",
       "    </tr>\n",
       "    <tr>\n",
       "      <th>1</th>\n",
       "      <td>10.351950</td>\n",
       "      <td>9.010137</td>\n",
       "      <td>-1.341813</td>\n",
       "      <td>0.002217</td>\n",
       "      <td>20</td>\n",
       "      <td>-1</td>\n",
       "      <td>0.918040</td>\n",
       "      <td>0.981539</td>\n",
       "      <td>159.327343</td>\n",
       "      <td>0.005108</td>\n",
       "      <td>0.003928</td>\n",
       "      <td>0.079492</td>\n",
       "      <td>87.869302</td>\n",
       "      <td>95910</td>\n",
       "      <td>2</td>\n",
       "      <td>275</td>\n",
       "    </tr>\n",
       "    <tr>\n",
       "      <th>7</th>\n",
       "      <td>10.356840</td>\n",
       "      <td>8.710108</td>\n",
       "      <td>-1.646732</td>\n",
       "      <td>0.014070</td>\n",
       "      <td>32</td>\n",
       "      <td>-1</td>\n",
       "      <td>0.779497</td>\n",
       "      <td>0.917521</td>\n",
       "      <td>122.422734</td>\n",
       "      <td>0.066673</td>\n",
       "      <td>0.016173</td>\n",
       "      <td>2.985575</td>\n",
       "      <td>74.908672</td>\n",
       "      <td>258414</td>\n",
       "      <td>9</td>\n",
       "      <td>1112</td>\n",
       "    </tr>\n",
       "    <tr>\n",
       "      <th>4</th>\n",
       "      <td>10.501962</td>\n",
       "      <td>9.207464</td>\n",
       "      <td>-1.294498</td>\n",
       "      <td>0.002208</td>\n",
       "      <td>74</td>\n",
       "      <td>-1</td>\n",
       "      <td>0.814045</td>\n",
       "      <td>0.812139</td>\n",
       "      <td>101.635108</td>\n",
       "      <td>0.010771</td>\n",
       "      <td>0.384566</td>\n",
       "      <td>1.202172</td>\n",
       "      <td>28.093374</td>\n",
       "      <td>213756</td>\n",
       "      <td>6</td>\n",
       "      <td>556</td>\n",
       "    </tr>\n",
       "  </tbody>\n",
       "</table>\n",
       "</div>"
      ],
      "text/plain": [
       "     mae_test  mae_train  diff_mae  learning_rate  num_leaves  max_depth  \\\n",
       "18   9.831926   5.214602 -4.617323       0.003884         108         -1   \n",
       "17   9.838406   6.138651 -3.699755       0.005504         161         -1   \n",
       "16   9.848345   5.795628 -4.052716       0.006222         159         -1   \n",
       "14   9.859654   6.212379 -3.647276       0.006844         192         -1   \n",
       "20   9.861237   5.648004 -4.213233       0.004047         103         -1   \n",
       "21   9.882605   6.239158 -3.643447       0.006653         159         -1   \n",
       "2    9.884348   6.051967 -3.832381       0.037768         183         -1   \n",
       "22   9.887754   6.368758 -3.518996       0.003886         155         -1   \n",
       "13   9.902562   6.118503 -3.784059       0.024352         194         -1   \n",
       "15   9.907191   7.025298 -2.881893       0.006598         189         -1   \n",
       "12   9.926116   5.552536 -4.373580       0.031938         248         -1   \n",
       "11   9.952367   5.020918 -4.931449       0.034374         241         -1   \n",
       "24   9.991178   7.444144 -2.547034       0.001159         212         -1   \n",
       "10   9.996995   2.497250 -7.499745       0.035342         239         -1   \n",
       "23  10.007571   7.674728 -2.332844       0.004621         106         -1   \n",
       "6   10.113386   7.294285 -2.819101       0.037563          78         -1   \n",
       "19  10.116021   8.236447 -1.879575       0.002830         105         -1   \n",
       "3   10.281839   7.710134 -2.571706       0.091643         188         -1   \n",
       "9   10.321617   8.463764 -1.857853       0.011953         142         -1   \n",
       "8   10.338473   8.701190 -1.637284       0.001185         135         -1   \n",
       "0   10.341650   8.156112 -2.185538       0.013881          62         -1   \n",
       "5   10.349199   7.771607 -2.577592       0.070728          30         -1   \n",
       "1   10.351950   9.010137 -1.341813       0.002217          20         -1   \n",
       "7   10.356840   8.710108 -1.646732       0.014070          32         -1   \n",
       "4   10.501962   9.207464 -1.294498       0.002208          74         -1   \n",
       "\n",
       "    subsample  colsample_bytree  min_child_weight  reg_alpha  reg_lambda  \\\n",
       "18   0.918882          0.907149        147.591389   1.381606    0.308927   \n",
       "17   0.918279          0.895653        166.186076   2.927903    0.479083   \n",
       "16   0.920780          0.896145        139.901495   1.112859    0.487956   \n",
       "14   0.960690          0.874684        172.421842   2.500262    2.734844   \n",
       "20   0.900127          0.932698        139.853328   0.030139    0.050305   \n",
       "21   0.930758          0.900909        136.394677   1.150060    0.769943   \n",
       "2    0.986769          0.845035        122.287691   0.657430    2.706773   \n",
       "22   0.933775          0.894534        178.018778   0.997496    0.250500   \n",
       "13   0.953515          0.875348        198.051465   2.748009    2.962020   \n",
       "15   0.956093          0.784580        173.589757   0.001083    2.961355   \n",
       "12   0.960650          0.865899        194.196755   0.240762    0.109215   \n",
       "11   0.999750          0.837343        198.428893   0.289474    0.130416   \n",
       "24   0.854345          0.959270        119.022433   1.460636    0.407361   \n",
       "10   0.993769          0.825232          6.707665   0.341611    0.124402   \n",
       "23   0.895925          0.892057        153.808618   2.938052    0.927061   \n",
       "6    0.878267          0.753078         88.720329   2.178319    0.006124   \n",
       "19   0.878777          0.959725        160.455339   0.120368    0.284225   \n",
       "3    0.828880          0.990924        101.267555   1.058692    1.291244   \n",
       "9    0.756776          0.739149         53.865546   0.080498    0.006113   \n",
       "8    0.990251          0.915048         77.925232   0.006247    0.588390   \n",
       "0    0.912383          0.948151        141.023919   0.009688    1.581918   \n",
       "5    0.866585          0.726627         79.930664   0.487513    0.025614   \n",
       "1    0.918040          0.981539        159.327343   0.005108    0.003928   \n",
       "7    0.779497          0.917521        122.422734   0.066673    0.016173   \n",
       "4    0.814045          0.812139        101.635108   0.010771    0.384566   \n",
       "\n",
       "    min_split_gain  max_delta_step  subsample_for_bin  subsample_freq  \\\n",
       "18       30.908514       82.317361             182395               8   \n",
       "17       18.870808       99.919776             213779               8   \n",
       "16       14.983234       87.872754             212929               8   \n",
       "14       12.842631       94.191938             214216               1   \n",
       "20        4.562445       80.051413             161357               7   \n",
       "21       25.612485       90.738746             193486               8   \n",
       "2         0.319870       54.447349             255450              10   \n",
       "22       95.896391       95.898210             223188               9   \n",
       "13       13.652203       48.150429             244604               4   \n",
       "15       10.233740       99.210029             198852               1   \n",
       "12        0.237649       46.474314             294303               4   \n",
       "11        0.191870       50.006265             295662               4   \n",
       "24       26.502808       99.836644             232206               7   \n",
       "10        0.262859       48.198889             294405               4   \n",
       "23        6.672705       84.637330             137190               9   \n",
       "6         0.042780       34.973804             246882               6   \n",
       "19       37.615322       79.969241             178784               8   \n",
       "3         0.939812       67.278456              68218              10   \n",
       "9         1.978066       14.359190              70615               6   \n",
       "8        60.580525       63.192099             135208               2   \n",
       "0         0.025496        3.579836             136733               8   \n",
       "5        70.343779       25.871714             162431               6   \n",
       "1         0.079492       87.869302              95910               2   \n",
       "7         2.985575       74.908672             258414               9   \n",
       "4         1.202172       28.093374             213756               6   \n",
       "\n",
       "    min_data_in_leaf  \n",
       "18               140  \n",
       "17               138  \n",
       "16               169  \n",
       "14               307  \n",
       "20               143  \n",
       "21               160  \n",
       "2                260  \n",
       "22               146  \n",
       "13               242  \n",
       "15               444  \n",
       "12                38  \n",
       "11                40  \n",
       "24               130  \n",
       "10                41  \n",
       "23               430  \n",
       "6                790  \n",
       "19               440  \n",
       "3                739  \n",
       "9                760  \n",
       "8                314  \n",
       "0                985  \n",
       "5                953  \n",
       "1                275  \n",
       "7               1112  \n",
       "4                556  "
      ]
     },
     "execution_count": 41,
     "metadata": {},
     "output_type": "execute_result"
    }
   ],
   "source": [
    "k"
   ]
  },
  {
   "cell_type": "code",
   "execution_count": 42,
   "metadata": {
    "ExecuteTime": {
     "end_time": "2020-07-03T21:10:36.767178Z",
     "start_time": "2020-07-03T21:10:36.760686Z"
    }
   },
   "outputs": [
    {
     "data": {
      "text/plain": [
       "{'random_state': 42,\n",
       " 'n_jobs': 60,\n",
       " 'n_estimators': 5000,\n",
       " 'learning_rate': 0.005503740183430079,\n",
       " 'num_leaves': 161,\n",
       " 'max_depth': -1,\n",
       " 'subsample': 0.9182793578744269,\n",
       " 'colsample_bytree': 0.8956534266619007,\n",
       " 'min_child_weight': 166.1860762939183,\n",
       " 'reg_alpha': 2.927903107984088,\n",
       " 'reg_lambda': 0.4790832380802528,\n",
       " 'min_split_gain': 18.870808224547016,\n",
       " 'max_delta_step': 99.91977628403578,\n",
       " 'subsample_for_bin': 213779,\n",
       " 'subsample_freq': 8,\n",
       " 'min_data_in_leaf': 138}"
      ]
     },
     "execution_count": 42,
     "metadata": {},
     "output_type": "execute_result"
    }
   ],
   "source": [
    "#in my opinion 17 and 14 is ok\n",
    "best_eval = 17\n",
    "\n",
    "best_params = {'random_state': SEED\n",
    "               , 'n_jobs' : NJOBS\n",
    "               , 'n_estimators': N_EST\n",
    "              }\n",
    "best_params.update(dict(info_opt_all.drop(['mae_test', 'mae_train', 'diff_mae'], axis=1).loc[best_eval,:]))\n",
    "for k, v in best_params.items():\n",
    "    if k in INT_PARAMS:\n",
    "        best_params[k] = int(v)\n",
    "best_params"
   ]
  },
  {
   "cell_type": "code",
   "execution_count": 47,
   "metadata": {
    "ExecuteTime": {
     "end_time": "2020-07-03T21:13:05.288416Z",
     "start_time": "2020-07-03T21:12:32.385846Z"
    }
   },
   "outputs": [
    {
     "name": "stdout",
     "output_type": "stream",
     "text": [
      "Training until validation scores don't improve for 100 rounds\n",
      "[200]\ttraining's l1: 16.6677\ttraining's l2: 444.118\tvalid_1's l1: 17.6953\tvalid_1's l2: 510.914\n",
      "[400]\ttraining's l1: 10.7036\ttraining's l2: 196.323\tvalid_1's l1: 12.1357\tvalid_1's l2: 256.682\n",
      "[600]\ttraining's l1: 9.03228\ttraining's l2: 144.795\tvalid_1's l1: 10.7259\tvalid_1's l2: 206.709\n",
      "[800]\ttraining's l1: 8.34802\ttraining's l2: 125.213\tvalid_1's l1: 10.2776\tvalid_1's l2: 191.844\n",
      "[1000]\ttraining's l1: 7.90797\ttraining's l2: 112.997\tvalid_1's l1: 10.0906\tvalid_1's l2: 185.976\n",
      "[1200]\ttraining's l1: 7.56846\ttraining's l2: 103.805\tvalid_1's l1: 9.99294\tvalid_1's l2: 183.058\n",
      "[1400]\ttraining's l1: 7.28209\ttraining's l2: 96.2105\tvalid_1's l1: 9.93922\tvalid_1's l2: 181.566\n",
      "[1600]\ttraining's l1: 7.01854\ttraining's l2: 89.4227\tvalid_1's l1: 9.89843\tvalid_1's l2: 180.279\n",
      "[1800]\ttraining's l1: 6.78075\ttraining's l2: 83.5067\tvalid_1's l1: 9.8759\tvalid_1's l2: 179.53\n",
      "[2000]\ttraining's l1: 6.56363\ttraining's l2: 78.2785\tvalid_1's l1: 9.86325\tvalid_1's l2: 179.012\n",
      "[2200]\ttraining's l1: 6.35562\ttraining's l2: 73.4414\tvalid_1's l1: 9.84928\tvalid_1's l2: 178.449\n",
      "[2400]\ttraining's l1: 6.1621\ttraining's l2: 69.0253\tvalid_1's l1: 9.84061\tvalid_1's l2: 178.122\n",
      "Early stopping, best iteration is:\n",
      "[2425]\ttraining's l1: 6.13865\ttraining's l2: 68.493\tvalid_1's l1: 9.83841\tvalid_1's l2: 178.049\n"
     ]
    },
    {
     "data": {
      "text/plain": [
       "LGBMRegressor(boosting_type='gbdt', class_weight=None,\n",
       "              colsample_bytree=0.8956534266619007, importance_type='split',\n",
       "              learning_rate=0.005503740183430079,\n",
       "              max_delta_step=99.91977628403578, max_depth=-1,\n",
       "              min_child_samples=20, min_child_weight=166.1860762939183,\n",
       "              min_data_in_leaf=138, min_split_gain=18.870808224547016,\n",
       "              n_estimators=10000, n_jobs=60, num_leaves=161, objective=None,\n",
       "              random_state=42, reg_alpha=2.927903107984088,\n",
       "              reg_lambda=0.4790832380802528, silent=True,\n",
       "              subsample=0.9182793578744269, subsample_for_bin=213779,\n",
       "              subsample_freq=8)"
      ]
     },
     "execution_count": 47,
     "metadata": {},
     "output_type": "execute_result"
    }
   ],
   "source": [
    "best_params['n_estimators'] = 5000\n",
    "lgb1 = LGBMRegressor(**best_params)\n",
    "lgb1.fit(Xtrain, ytrain, eval_metric=['mae'], verbose=200, early_stopping_rounds=100\n",
    "             , eval_set=[(Xtrain, ytrain), (Xval, yval)])"
   ]
  },
  {
   "cell_type": "code",
   "execution_count": 48,
   "metadata": {
    "ExecuteTime": {
     "end_time": "2020-07-03T21:13:05.668008Z",
     "start_time": "2020-07-03T21:13:05.290354Z"
    }
   },
   "outputs": [
    {
     "name": "stdout",
     "output_type": "stream",
     "text": [
      "6.138650980745721\n",
      "9.838405794688768\n"
     ]
    }
   ],
   "source": [
    "print(mean_absolute_error(ytrain, lgb1.predict(Xtrain)))\n",
    "print(mean_absolute_error(yval, lgb1.predict(Xval)))"
   ]
  },
  {
   "cell_type": "code",
   "execution_count": 84,
   "metadata": {
    "ExecuteTime": {
     "end_time": "2020-07-03T21:32:50.783539Z",
     "start_time": "2020-07-03T21:32:50.775938Z"
    }
   },
   "outputs": [
    {
     "data": {
      "text/plain": [
       "{'random_state': 42,\n",
       " 'n_jobs': 60,\n",
       " 'n_estimators': 5000,\n",
       " 'learning_rate': 0.006844432997504232,\n",
       " 'num_leaves': 192,\n",
       " 'max_depth': -1,\n",
       " 'subsample': 0.9606897306688151,\n",
       " 'colsample_bytree': 0.8746843927456114,\n",
       " 'min_child_weight': 172.4218421733197,\n",
       " 'reg_alpha': 2.5002615091078826,\n",
       " 'reg_lambda': 2.7348435293494426,\n",
       " 'min_split_gain': 12.842631152793253,\n",
       " 'max_delta_step': 94.1919381026021,\n",
       " 'subsample_for_bin': 214216,\n",
       " 'subsample_freq': 1,\n",
       " 'min_data_in_leaf': 307}"
      ]
     },
     "execution_count": 84,
     "metadata": {},
     "output_type": "execute_result"
    }
   ],
   "source": [
    "best_eval = 14\n",
    "\n",
    "best_params = {'random_state': SEED\n",
    "               , 'n_jobs' : NJOBS\n",
    "               , 'n_estimators': N_EST\n",
    "              }\n",
    "best_params.update(dict(info_opt_all.drop(['mae_test', 'mae_train', 'diff_mae'], axis=1).loc[best_eval,:]))\n",
    "for k, v in best_params.items():\n",
    "    if k in INT_PARAMS:\n",
    "        best_params[k] = int(v)\n",
    "best_params"
   ]
  },
  {
   "cell_type": "code",
   "execution_count": 85,
   "metadata": {
    "ExecuteTime": {
     "end_time": "2020-07-03T21:33:26.431412Z",
     "start_time": "2020-07-03T21:32:52.600006Z"
    }
   },
   "outputs": [
    {
     "name": "stdout",
     "output_type": "stream",
     "text": [
      "Training until validation scores don't improve for 100 rounds\n",
      "[200]\ttraining's l1: 15.1222\ttraining's l2: 374.045\tvalid_1's l1: 16.1425\tvalid_1's l2: 432.792\n",
      "[400]\ttraining's l1: 10.4134\ttraining's l2: 189.856\tvalid_1's l1: 11.6724\tvalid_1's l2: 240.223\n",
      "[600]\ttraining's l1: 9.3312\ttraining's l2: 155.12\tvalid_1's l1: 10.7132\tvalid_1's l2: 206.566\n",
      "[800]\ttraining's l1: 8.84532\ttraining's l2: 140.179\tvalid_1's l1: 10.391\tvalid_1's l2: 196.04\n",
      "[1000]\ttraining's l1: 8.51874\ttraining's l2: 130.464\tvalid_1's l1: 10.2395\tvalid_1's l2: 191.545\n",
      "[1200]\ttraining's l1: 8.2582\ttraining's l2: 122.84\tvalid_1's l1: 10.1504\tvalid_1's l2: 188.932\n",
      "[1400]\ttraining's l1: 8.02965\ttraining's l2: 116.238\tvalid_1's l1: 10.0878\tvalid_1's l2: 186.902\n",
      "[1600]\ttraining's l1: 7.81939\ttraining's l2: 110.263\tvalid_1's l1: 10.0359\tvalid_1's l2: 185.181\n",
      "[1800]\ttraining's l1: 7.61783\ttraining's l2: 104.682\tvalid_1's l1: 9.98841\tvalid_1's l2: 183.553\n",
      "[2000]\ttraining's l1: 7.43586\ttraining's l2: 99.7354\tvalid_1's l1: 9.95116\tvalid_1's l2: 182.276\n",
      "[2200]\ttraining's l1: 7.2724\ttraining's l2: 95.4149\tvalid_1's l1: 9.92522\tvalid_1's l2: 181.381\n",
      "[2400]\ttraining's l1: 7.11953\ttraining's l2: 91.4121\tvalid_1's l1: 9.9074\tvalid_1's l2: 180.728\n",
      "[2600]\ttraining's l1: 6.9757\ttraining's l2: 87.7371\tvalid_1's l1: 9.89353\tvalid_1's l2: 180.231\n",
      "[2800]\ttraining's l1: 6.83744\ttraining's l2: 84.2776\tvalid_1's l1: 9.8832\tvalid_1's l2: 179.961\n",
      "[3000]\ttraining's l1: 6.70521\ttraining's l2: 81.0504\tvalid_1's l1: 9.87657\tvalid_1's l2: 179.702\n",
      "[3200]\ttraining's l1: 6.57881\ttraining's l2: 78.0172\tvalid_1's l1: 9.87149\tvalid_1's l2: 179.439\n",
      "[3400]\ttraining's l1: 6.45644\ttraining's l2: 75.1521\tvalid_1's l1: 9.86825\tvalid_1's l2: 179.212\n",
      "[3600]\ttraining's l1: 6.33916\ttraining's l2: 72.4515\tvalid_1's l1: 9.86633\tvalid_1's l2: 179.088\n",
      "[3800]\ttraining's l1: 6.22661\ttraining's l2: 69.919\tvalid_1's l1: 9.86021\tvalid_1's l2: 178.893\n",
      "Early stopping, best iteration is:\n",
      "[3826]\ttraining's l1: 6.21238\ttraining's l2: 69.5985\tvalid_1's l1: 9.85965\tvalid_1's l2: 178.865\n"
     ]
    },
    {
     "data": {
      "text/plain": [
       "LGBMRegressor(boosting_type='gbdt', class_weight=None,\n",
       "              colsample_bytree=0.8746843927456114, importance_type='split',\n",
       "              learning_rate=0.006844432997504232,\n",
       "              max_delta_step=94.1919381026021, max_depth=-1,\n",
       "              min_child_samples=20, min_child_weight=172.4218421733197,\n",
       "              min_data_in_leaf=307, min_split_gain=12.842631152793253,\n",
       "              n_estimators=5000, n_jobs=60, num_leaves=192, objective=None,\n",
       "              random_state=42, reg_alpha=2.5002615091078826,\n",
       "              reg_lambda=2.7348435293494426, silent=True,\n",
       "              subsample=0.9606897306688151, subsample_for_bin=214216,\n",
       "              subsample_freq=1)"
      ]
     },
     "execution_count": 85,
     "metadata": {},
     "output_type": "execute_result"
    }
   ],
   "source": [
    "best_params['n_estimators'] = 5000\n",
    "lgb2 = LGBMRegressor(**best_params)\n",
    "lgb2.fit(Xtrain, ytrain, eval_metric=['mae'], verbose=200, early_stopping_rounds=100\n",
    "             , eval_set=[(Xtrain, ytrain), (Xval, yval)])"
   ]
  },
  {
   "cell_type": "code",
   "execution_count": 86,
   "metadata": {
    "ExecuteTime": {
     "end_time": "2020-07-03T21:33:29.913240Z",
     "start_time": "2020-07-03T21:33:29.330692Z"
    }
   },
   "outputs": [
    {
     "name": "stdout",
     "output_type": "stream",
     "text": [
      "6.212378567305363\n",
      "9.859654287889875\n"
     ]
    }
   ],
   "source": [
    "print(mean_absolute_error(ytrain, lgb2.predict(Xtrain)))\n",
    "print(mean_absolute_error(yval, lgb2.predict(Xval)))"
   ]
  },
  {
   "cell_type": "markdown",
   "metadata": {},
   "source": [
    "### Try to combine"
   ]
  },
  {
   "cell_type": "code",
   "execution_count": 126,
   "metadata": {
    "ExecuteTime": {
     "end_time": "2020-07-03T21:59:11.716770Z",
     "start_time": "2020-07-03T21:59:10.638883Z"
    }
   },
   "outputs": [
    {
     "name": "stdout",
     "output_type": "stream",
     "text": [
      "Best alpha: 0.9420000000000001\n",
      "Corresponding mae score on train: 6.138352732948632\n"
     ]
    }
   ],
   "source": [
    "alphas_to_try = np.linspace(0, 1, 1001)\n",
    "\n",
    "pred_train1 = lgb1.predict(Xtrain)\n",
    "pred_train2 = lgb2.predict(Xtrain)\n",
    "min_mae = 1e9\n",
    "best_alpha = -1\n",
    "yhat_best = None\n",
    "for alpha in alphas_to_try:\n",
    "    yhat = pred_train1 * alpha + (1 - alpha) * pred_train2\n",
    "    mae = mean_absolute_error(ytrain, yhat)\n",
    "    if mae < min_mae:\n",
    "        min_mae = mae\n",
    "        best_alpha = alpha\n",
    "        yhat_best = yhat\n",
    "\n",
    "print(f'Best alpha: {best_alpha}\\nCorresponding mae score on train: {mean_absolute_error(ytrain, yhat_best)}')"
   ]
  },
  {
   "cell_type": "code",
   "execution_count": null,
   "metadata": {},
   "outputs": [],
   "source": [
    "best_alpha = 0.942"
   ]
  },
  {
   "cell_type": "code",
   "execution_count": 113,
   "metadata": {
    "ExecuteTime": {
     "end_time": "2020-07-03T21:42:07.839892Z",
     "start_time": "2020-07-03T21:42:07.613052Z"
    }
   },
   "outputs": [
    {
     "name": "stdout",
     "output_type": "stream",
     "text": [
      "val mae: 9.834184311237584\n"
     ]
    }
   ],
   "source": [
    "yhat_val = lgb1.predict(Xval) * best_alpha + (1 - best_alpha) * lgb2.predict(Xval)\n",
    "\n",
    "print(f'val mae: {mean_absolute_error(yval, yhat_val)}')"
   ]
  },
  {
   "cell_type": "code",
   "execution_count": 119,
   "metadata": {
    "ExecuteTime": {
     "end_time": "2020-07-03T21:53:08.059387Z",
     "start_time": "2020-07-03T21:53:07.747358Z"
    }
   },
   "outputs": [
    {
     "data": {
      "image/png": "[encoded data removed]",
      "text/plain": [
       "<Figure size 432x288 with 1 Axes>"
      ]
     },
     "metadata": {},
     "output_type": "display_data"
    }
   ],
   "source": [
    "sns.distplot(yval)\n",
    "sns.distplot(yhat_val)\n",
    "plt.show()"
   ]
  },
  {
   "cell_type": "code",
   "execution_count": 120,
   "metadata": {
    "ExecuteTime": {
     "end_time": "2020-07-03T21:53:08.684531Z",
     "start_time": "2020-07-03T21:53:08.329082Z"
    }
   },
   "outputs": [
    {
     "data": {
      "image/png": "[encoded data removed]",
      "text/plain": [
       "<Figure size 432x288 with 1 Axes>"
      ]
     },
     "metadata": {},
     "output_type": "display_data"
    }
   ],
   "source": [
    "sns.distplot(ytrain)\n",
    "sns.distplot(yhat_best)\n",
    "plt.show()"
   ]
  },
  {
   "cell_type": "markdown",
   "metadata": {},
   "source": [
    "## Predict on test"
   ]
  },
  {
   "cell_type": "code",
   "execution_count": 97,
   "metadata": {
    "ExecuteTime": {
     "end_time": "2020-07-03T21:35:14.503753Z",
     "start_time": "2020-07-03T21:35:14.170817Z"
    }
   },
   "outputs": [],
   "source": [
    "ytest['value'] = lgb1.predict(Xtest) * best_alpha + (1 - best_alpha) * lgb2.predict(Xtest)"
   ]
  },
  {
   "cell_type": "code",
   "execution_count": 99,
   "metadata": {
    "ExecuteTime": {
     "end_time": "2020-07-03T21:36:09.602710Z",
     "start_time": "2020-07-03T21:36:09.570322Z"
    }
   },
   "outputs": [],
   "source": [
    "ytest.to_csv(DATA_DIR / 'y_submit.csv', index=False)"
   ]
  },
  {
   "cell_type": "markdown",
   "metadata": {},
   "source": [
    "## Sum up"
   ]
  },
  {
   "cell_type": "markdown",
   "metadata": {},
   "source": [
    "As I noticed while training other models, it can be a bit better to use top 30 features (based on shap values). Also maybe single model 'lgb1' will win on Y_submit and in 'production' rather single model will be used than any stacking but just to try I prefer to keep this approach here.\n",
    "\n",
    "By the way while training I tried to generate different features based on sensors and cells, computing different statistics like mean, max, min, std but it didn't have any success as it seemed to me"
   ]
  },
  {
   "cell_type": "code",
   "execution_count": null,
   "metadata": {},
   "outputs": [],
   "source": []
  }
 ],
 "metadata": {
  "kernelspec": {
   "display_name": "Python 3",
   "language": "python",
   "name": "python3"
  },
  "language_info": {
   "codemirror_mode": {
    "name": "ipython",
    "version": 3
   },
   "file_extension": ".py",
   "mimetype": "text/x-python",
   "name": "python",
   "nbconvert_exporter": "python",
   "pygments_lexer": "ipython3",
   "version": "3.7.6"
  }
 },
 "nbformat": 4,
 "nbformat_minor": 2
}
