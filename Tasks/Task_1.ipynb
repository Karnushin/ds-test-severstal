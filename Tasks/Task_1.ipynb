{
 "cells": [
  {
   "cell_type": "markdown",
   "metadata": {},
   "source": [
    "**Task 1**"
   ]
  },
  {
   "cell_type": "markdown",
   "metadata": {},
   "source": [
    "I renamed excel file and column's names due to some utf-8 problems while reading"
   ]
  },
  {
   "cell_type": "code",
   "execution_count": 1,
   "metadata": {},
   "outputs": [],
   "source": [
    "import pandas as pd\n",
    "import numpy as np\n",
    "from scipy import stats\n",
    "import seaborn as sns\n",
    "\n",
    "from pathlib import Path\n",
    "\n",
    "from statsmodels.stats.proportion import proportions_ztest"
   ]
  },
  {
   "cell_type": "code",
   "execution_count": 3,
   "metadata": {},
   "outputs": [],
   "source": [
    "def proportions_diff_z_test(z_stat, alternative = 'two-sided'):\n",
    "    '''Computation of p-value for z-test'''\n",
    "    \n",
    "    if alternative not in ('two-sided', 'less', 'greater'):\n",
    "        raise ValueError(\"alternative not recognized\\n\"\n",
    "                         \"should be 'two-sided', 'less' or 'greater'\")\n",
    "    \n",
    "    if alternative == 'two-sided':\n",
    "        return 2 * (1 - stats.norm.cdf(np.abs(z_stat)))\n",
    "    \n",
    "    if alternative == 'less':\n",
    "        return stats.norm.cdf(z_stat)\n",
    "\n",
    "    if alternative == 'greater':\n",
    "        return 1 - stats.norm.cdf(z_stat)\n",
    "    \n",
    "def proportions_diff_z_stat_ind(n1=None, n2=None, cnt_pos1=None, cnt_pos2=None,\n",
    "                                p1=None, p2=None, sample1=None, sample2=None):\n",
    "    '''Compitation of z-stat for fractions of independent samples'''\n",
    "    \n",
    "    if sample1 is not None:\n",
    "        n1 = len(sample1)\n",
    "        cnt_pos1 = sum(sample1)\n",
    "        #подсчет вероятноти для 1-й популяции\n",
    "        p1 = cnt_pos1 / n1\n",
    "    elif n1 is not None and cnt_pos1 is not None:\n",
    "        p1 = cnt_pos1 / n1\n",
    "    elif n1 is not None:\n",
    "        raise ValueError('You give no sample, no cnt_pos1, so it must be p1 and n1')\n",
    "        \n",
    "    if sample2 is not None:\n",
    "        n2 = len(sample2)\n",
    "        cnt_pos2 = sum(sample2)\n",
    "        #подсчет вероятноти для 2-й популяции\n",
    "        p2 = cnt_pos2 / n2\n",
    "    elif n2 is not None and cnt_pos2 is not None:\n",
    "        p2 = cnt_pos2 / n2\n",
    "    elif n2 is not None:\n",
    "        raise ValueError('You give no sample, no cnt_pos1, so it must be p2 and n2')\n",
    "        \n",
    "    P = (p1*n1 + p2*n2) / (n1 + n2)\n",
    "    \n",
    "    return (p1 - p2) / np.sqrt(P * (1 - P) * (1. / n1 + 1. / n2))"
   ]
  },
  {
   "cell_type": "code",
   "execution_count": 2,
   "metadata": {},
   "outputs": [
    {
     "data": {
      "text/html": [
       "<div>\n",
       "<style scoped>\n",
       "    .dataframe tbody tr th:only-of-type {\n",
       "        vertical-align: middle;\n",
       "    }\n",
       "\n",
       "    .dataframe tbody tr th {\n",
       "        vertical-align: top;\n",
       "    }\n",
       "\n",
       "    .dataframe thead th {\n",
       "        text-align: right;\n",
       "    }\n",
       "</style>\n",
       "<table border=\"1\" class=\"dataframe\">\n",
       "  <thead>\n",
       "    <tr style=\"text-align: right;\">\n",
       "      <th></th>\n",
       "      <th>count</th>\n",
       "      <th>speed</th>\n",
       "      <th>type</th>\n",
       "    </tr>\n",
       "  </thead>\n",
       "  <tbody>\n",
       "    <tr>\n",
       "      <th>0</th>\n",
       "      <td>3</td>\n",
       "      <td>3.8</td>\n",
       "      <td>A</td>\n",
       "    </tr>\n",
       "    <tr>\n",
       "      <th>1</th>\n",
       "      <td>3</td>\n",
       "      <td>3.8</td>\n",
       "      <td>B</td>\n",
       "    </tr>\n",
       "    <tr>\n",
       "      <th>2</th>\n",
       "      <td>3</td>\n",
       "      <td>4.8</td>\n",
       "      <td>B</td>\n",
       "    </tr>\n",
       "    <tr>\n",
       "      <th>3</th>\n",
       "      <td>4</td>\n",
       "      <td>4.4</td>\n",
       "      <td>B</td>\n",
       "    </tr>\n",
       "    <tr>\n",
       "      <th>4</th>\n",
       "      <td>6</td>\n",
       "      <td>5.0</td>\n",
       "      <td>B</td>\n",
       "    </tr>\n",
       "  </tbody>\n",
       "</table>\n",
       "</div>"
      ],
      "text/plain": [
       "   count  speed type\n",
       "0      3    3.8    A\n",
       "1      3    3.8    B\n",
       "2      3    4.8    B\n",
       "3      4    4.4    B\n",
       "4      6    5.0    B"
      ]
     },
     "execution_count": 2,
     "metadata": {},
     "output_type": "execute_result"
    }
   ],
   "source": [
    "df = pd.read_csv(Path('data', 'statistics_2018.csv'))\n",
    "df.head()"
   ]
  },
  {
   "cell_type": "markdown",
   "metadata": {},
   "source": [
    "**1**\n",
    "\n",
    "1)\tБолее 3 бракованных листов на партию выходит значимо чаще для стали марки А, чем для стали марки B."
   ]
  },
  {
   "cell_type": "code",
   "execution_count": 11,
   "metadata": {},
   "outputs": [
    {
     "data": {
      "text/plain": [
       "(3.179856115107914, 3.36734693877551)"
      ]
     },
     "execution_count": 11,
     "metadata": {},
     "output_type": "execute_result"
    }
   ],
   "source": [
    "df.loc[df['type']=='A', 'count'].mean(), df.loc[df['type']=='B', 'count'].mean()"
   ]
  },
  {
   "cell_type": "markdown",
   "metadata": {},
   "source": [
    "Так как речь идет о сравнении не самих средних, а больше или не больше, чем k, то перейду к бинарным векторам.\n",
    "Ввиду того, что используются разные марки стали, то, по моему мнению, логично предположить, что выборки являются независимыми\n",
    "\n",
    "$H_0: p_1 = p_2$\n",
    "<br>\n",
    "$H_1: p_1 > p_2$\n",
    "\n",
    "Пусть $\\alpha$=0.05"
   ]
  },
  {
   "cell_type": "code",
   "execution_count": 62,
   "metadata": {},
   "outputs": [],
   "source": [
    "sample1 = np.where(df.loc[df['type']=='A', 'count'] > 3, 1, 0)\n",
    "sample2 = np.where(df.loc[df['type']=='B', 'count'] > 3, 1, 0)"
   ]
  },
  {
   "cell_type": "code",
   "execution_count": 51,
   "metadata": {},
   "outputs": [
    {
     "data": {
      "text/plain": [
       "(139, 98, 0.381294964028777, 0.4489795918367347)"
      ]
     },
     "execution_count": 51,
     "metadata": {},
     "output_type": "execute_result"
    }
   ],
   "source": [
    "len(sample1), len(sample2), np.mean(sample1), np.mean(sample2)"
   ]
  },
  {
   "cell_type": "code",
   "execution_count": 67,
   "metadata": {},
   "outputs": [
    {
     "name": "stdout",
     "output_type": "stream",
     "text": [
      "p-value: 0.8516651432021004\n"
     ]
    }
   ],
   "source": [
    "z_stat = proportions_diff_z_stat_ind(sample1=sample1, sample2=sample2)\n",
    "print(f\"p-value: {proportions_diff_z_test(z_stat, 'greater')}\")"
   ]
  },
  {
   "cell_type": "code",
   "execution_count": 27,
   "metadata": {},
   "outputs": [
    {
     "data": {
      "text/plain": [
       "0.8516651432021004"
      ]
     },
     "execution_count": 27,
     "metadata": {},
     "output_type": "execute_result"
    }
   ],
   "source": [
    "#сверка с библиотечной реализацией\n",
    "proportions_ztest(np.array([sum(sample1), sum(sample2)]), np.array([len(sample1), len(sample2)])\n",
    "                  , alternative='larger')[1]"
   ]
  },
  {
   "cell_type": "markdown",
   "metadata": {},
   "source": [
    "Гипотеза $H_0$ не отвергается"
   ]
  },
  {
   "cell_type": "markdown",
   "metadata": {},
   "source": [
    "**2**\n",
    "\n",
    "2)\tПри скоростях прокатки более 4 м/с свыше 3 бракованных листов стали на партию выходит значимо чаще, чем при меньших скоростях прокатки. \n",
    "\n",
    "Так как в задании говорится про сталь марки \"А\", то рассмотрю ее.\n",
    "\n",
    "Аналогично предыдущему заданию перейду к бинарным векторам. C одной стороны кажется, что раз используется одна и та же марка стали \"А\", то выборки можно считать зависимыми, но проблема в том, что при таких ограничениях объемы выборок различны, то есть эксперименты неравнозначны, в связи с этим буду рассматривать их как независимые, как и в №1\n",
    "\n",
    "$H_0: p_1 = p_2$\n",
    "<br>\n",
    "$H_1: p_1 > p_2$\n",
    "\n",
    "Пусть $\\alpha$=0.05"
   ]
  },
  {
   "cell_type": "code",
   "execution_count": 56,
   "metadata": {},
   "outputs": [],
   "source": [
    "sample1 = np.where(df.loc[(df['speed'] > 4) & (df['type']=='A'), 'count'] > 3, 1, 0)\n",
    "sample2 = np.where(df.loc[(df['speed'] <= 4) & (df['type']=='A'), 'count'] > 3, 1, 0)"
   ]
  },
  {
   "cell_type": "code",
   "execution_count": 49,
   "metadata": {},
   "outputs": [
    {
     "data": {
      "text/plain": [
       "(100, 39, 0.39, 0.358974358974359)"
      ]
     },
     "execution_count": 49,
     "metadata": {},
     "output_type": "execute_result"
    }
   ],
   "source": [
    "len(sample1), len(sample2), np.mean(sample1), np.mean(sample2)"
   ]
  },
  {
   "cell_type": "code",
   "execution_count": 53,
   "metadata": {},
   "outputs": [
    {
     "name": "stdout",
     "output_type": "stream",
     "text": [
      "p-value: 0.8516651432021004\n"
     ]
    }
   ],
   "source": [
    "z_stat = proportions_diff_z_stat_ind(sample1=sample1, sample2=sample2)\n",
    "print(f\"p-value: {proportions_diff_z_test(z_stat, 'greater')}\")"
   ]
  },
  {
   "cell_type": "markdown",
   "metadata": {},
   "source": [
    "Гипотеза $H_0$ не отвергается"
   ]
  },
  {
   "cell_type": "markdown",
   "metadata": {},
   "source": [
    "## Вывод:\n",
    "\n",
    "Возможно, что я не совсем верно интерпретировал формулировку, но в такой интерпретации кажутся две вещи: необходим переход к бинарным векторам и сравнение против односторонней альтернативы. В таком случае получается, что дважды нулевая гипотеза не отверглась, несмотря на то, что в задании говорится, что надо обосновать обратное.\n",
    "Также, может быть, что станки на которые проходили обработки партии стали разные, условно, один из станков может допускать меньшее количество брака даже при больших скоростях. Кажется, это еще один из аргументов использования именно тестов для именно независимых выборок"
   ]
  },
  {
   "cell_type": "code",
   "execution_count": null,
   "metadata": {},
   "outputs": [],
   "source": []
  }
 ],
 "metadata": {
  "kernelspec": {
   "display_name": "Python 3",
   "language": "python",
   "name": "python3"
  },
  "language_info": {
   "codemirror_mode": {
    "name": "ipython",
    "version": 3
   },
   "file_extension": ".py",
   "mimetype": "text/x-python",
   "name": "python",
   "nbconvert_exporter": "python",
   "pygments_lexer": "ipython3",
   "version": "3.7.6"
  }
 },
 "nbformat": 4,
 "nbformat_minor": 4
}
